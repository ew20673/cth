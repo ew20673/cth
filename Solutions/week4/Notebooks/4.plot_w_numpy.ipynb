{
 "cells": [
  {
   "cell_type": "code",
   "execution_count": 9,
   "id": "sharp-microphone",
   "metadata": {},
   "outputs": [
    {
     "data": {
      "image/png": "[encoded data removed]",
      "text/plain": [
       "<Figure size 432x216 with 2 Axes>"
      ]
     },
     "metadata": {
      "needs_background": "light"
     },
     "output_type": "display_data"
    }
   ],
   "source": [
    "# axplot.py\n",
    "\n",
    "import matplotlib.pyplot as plt\n",
    "import numpy as np\n",
    "\n",
    "#\n",
    "# Create a figure (a window)\n",
    "# Add two subplots in a 1x2 grid (one plot on the left and one on the right)\n",
    "# ax_left will be the left axes (number 1)\n",
    "# ax_right will be the right axes (number 2)\n",
    "#\n",
    "fig = plt.figure(figsize=(6, 3))\n",
    "ax_left = fig.add_subplot(1, 2, 1)\n",
    "ax_right = fig.add_subplot(1, 2, 2)\n",
    "\n",
    "# x values [0, 0.05, 0.10, ...]\n",
    "x = np.linspace(0, 15, 300)\n",
    "sinx = np.sin(x)\n",
    "cosx = np.cos(x)\n",
    "\n",
    "# Plot sinx on the left\n",
    "ax_left.plot(x, sinx, color='green', linewidth=3)\n",
    "ax_left.set_title('Plot of sin(x)')\n",
    "\n",
    "# Plot cosx on the right\n",
    "ax_right.plot(x, cosx, color='red', linewidth=3)\n",
    "ax_right.set_title('Plot of cos(x)')\n",
    "\n",
    "plt.show()"
   ]
  },
  {
   "cell_type": "code",
   "execution_count": 3,
   "id": "indirect-scale",
   "metadata": {},
   "outputs": [],
   "source": [
    "?plt.figure"
   ]
  },
  {
   "cell_type": "code",
   "execution_count": 5,
   "id": "selected-stamp",
   "metadata": {},
   "outputs": [
    {
     "data": {
      "text/plain": [
       "300"
      ]
     },
     "execution_count": 5,
     "metadata": {},
     "output_type": "execute_result"
    }
   ],
   "source": [
    "len(x)"
   ]
  },
  {
   "cell_type": "code",
   "execution_count": 6,
   "id": "indirect-section",
   "metadata": {},
   "outputs": [
    {
     "data": {
      "text/plain": [
       "numpy.ndarray"
      ]
     },
     "execution_count": 6,
     "metadata": {},
     "output_type": "execute_result"
    }
   ],
   "source": [
    "type(x)"
   ]
  },
  {
   "cell_type": "code",
   "execution_count": 7,
   "id": "sonic-threat",
   "metadata": {},
   "outputs": [
    {
     "data": {
      "text/plain": [
       "dtype('float64')"
      ]
     },
     "execution_count": 7,
     "metadata": {},
     "output_type": "execute_result"
    }
   ],
   "source": [
    "x.dtype"
   ]
  },
  {
   "cell_type": "code",
   "execution_count": null,
   "id": "banner-relief",
   "metadata": {},
   "outputs": [],
   "source": []
  }
 ],
 "metadata": {
  "kernelspec": {
   "display_name": "Python 3",
   "language": "python",
   "name": "python3"
  },
  "language_info": {
   "codemirror_mode": {
    "name": "ipython",
    "version": 3
   },
   "file_extension": ".py",
   "mimetype": "text/x-python",
   "name": "python",
   "nbconvert_exporter": "python",
   "pygments_lexer": "ipython3",
   "version": "3.9.1+"
  }
 },
 "nbformat": 4,
 "nbformat_minor": 5
}
