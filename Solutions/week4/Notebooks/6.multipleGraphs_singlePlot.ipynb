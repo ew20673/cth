{
 "cells": [
  {
   "cell_type": "code",
   "execution_count": 1,
   "id": "sexual-savage",
   "metadata": {},
   "outputs": [],
   "source": [
    "%matplotlib inline\n",
    "import numpy as np\n",
    "import matplotlib.pyplot as plt\n"
   ]
  },
  {
   "cell_type": "code",
   "execution_count": 2,
   "id": "impaired-racing",
   "metadata": {},
   "outputs": [
    {
     "data": {
      "text/plain": [
       "[0, 1, 2, 3, 4, 5, 6, 7, 8, 9]"
      ]
     },
     "execution_count": 2,
     "metadata": {},
     "output_type": "execute_result"
    }
   ],
   "source": [
    "list(range(10))"
   ]
  },
  {
   "cell_type": "code",
   "execution_count": 3,
   "id": "australian-produce",
   "metadata": {},
   "outputs": [
    {
     "data": {
      "text/plain": [
       "array([0.  , 0.02, 0.04, 0.06, 0.08, 0.1 , 0.12, 0.14, 0.16, 0.18, 0.2 ,\n",
       "       0.22, 0.24, 0.26, 0.28, 0.3 , 0.32, 0.34, 0.36, 0.38, 0.4 , 0.42,\n",
       "       0.44, 0.46, 0.48, 0.5 , 0.52, 0.54, 0.56, 0.58, 0.6 , 0.62, 0.64,\n",
       "       0.66, 0.68, 0.7 , 0.72, 0.74, 0.76, 0.78, 0.8 , 0.82, 0.84, 0.86,\n",
       "       0.88, 0.9 , 0.92, 0.94, 0.96, 0.98, 1.  , 1.02, 1.04, 1.06, 1.08,\n",
       "       1.1 , 1.12, 1.14, 1.16, 1.18, 1.2 , 1.22, 1.24, 1.26, 1.28, 1.3 ,\n",
       "       1.32, 1.34, 1.36, 1.38, 1.4 , 1.42, 1.44, 1.46, 1.48, 1.5 , 1.52,\n",
       "       1.54, 1.56, 1.58, 1.6 , 1.62, 1.64, 1.66, 1.68, 1.7 , 1.72, 1.74,\n",
       "       1.76, 1.78, 1.8 , 1.82, 1.84, 1.86, 1.88, 1.9 , 1.92, 1.94, 1.96,\n",
       "       1.98, 2.  , 2.02, 2.04, 2.06, 2.08, 2.1 , 2.12, 2.14, 2.16, 2.18,\n",
       "       2.2 , 2.22, 2.24, 2.26, 2.28, 2.3 , 2.32, 2.34, 2.36, 2.38, 2.4 ,\n",
       "       2.42, 2.44, 2.46, 2.48, 2.5 , 2.52, 2.54, 2.56, 2.58, 2.6 , 2.62,\n",
       "       2.64, 2.66, 2.68, 2.7 , 2.72, 2.74, 2.76, 2.78, 2.8 , 2.82, 2.84,\n",
       "       2.86, 2.88, 2.9 , 2.92, 2.94, 2.96, 2.98])"
      ]
     },
     "execution_count": 3,
     "metadata": {},
     "output_type": "execute_result"
    }
   ],
   "source": [
    "np.arange(0, 3, .02)"
   ]
  },
  {
   "cell_type": "code",
   "execution_count": 26,
   "id": "stunning-sword",
   "metadata": {},
   "outputs": [],
   "source": [
    "?np.linspace"
   ]
  },
  {
   "cell_type": "code",
   "execution_count": 5,
   "id": "apparent-atmosphere",
   "metadata": {},
   "outputs": [
    {
     "data": {
      "text/plain": [
       "array([0.        , 0.01010101, 0.02020202, 0.03030303, 0.04040404,\n",
       "       0.05050505, 0.06060606, 0.07070707, 0.08080808, 0.09090909,\n",
       "       0.1010101 , 0.11111111, 0.12121212, 0.13131313, 0.14141414,\n",
       "       0.15151515, 0.16161616, 0.17171717, 0.18181818, 0.19191919,\n",
       "       0.2020202 , 0.21212121, 0.22222222, 0.23232323, 0.24242424,\n",
       "       0.25252525, 0.26262626, 0.27272727, 0.28282828, 0.29292929,\n",
       "       0.3030303 , 0.31313131, 0.32323232, 0.33333333, 0.34343434,\n",
       "       0.35353535, 0.36363636, 0.37373737, 0.38383838, 0.39393939,\n",
       "       0.4040404 , 0.41414141, 0.42424242, 0.43434343, 0.44444444,\n",
       "       0.45454545, 0.46464646, 0.47474747, 0.48484848, 0.49494949,\n",
       "       0.50505051, 0.51515152, 0.52525253, 0.53535354, 0.54545455,\n",
       "       0.55555556, 0.56565657, 0.57575758, 0.58585859, 0.5959596 ,\n",
       "       0.60606061, 0.61616162, 0.62626263, 0.63636364, 0.64646465,\n",
       "       0.65656566, 0.66666667, 0.67676768, 0.68686869, 0.6969697 ,\n",
       "       0.70707071, 0.71717172, 0.72727273, 0.73737374, 0.74747475,\n",
       "       0.75757576, 0.76767677, 0.77777778, 0.78787879, 0.7979798 ,\n",
       "       0.80808081, 0.81818182, 0.82828283, 0.83838384, 0.84848485,\n",
       "       0.85858586, 0.86868687, 0.87878788, 0.88888889, 0.8989899 ,\n",
       "       0.90909091, 0.91919192, 0.92929293, 0.93939394, 0.94949495,\n",
       "       0.95959596, 0.96969697, 0.97979798, 0.98989899, 1.        ])"
      ]
     },
     "execution_count": 5,
     "metadata": {},
     "output_type": "execute_result"
    }
   ],
   "source": [
    "np.linspace(0,1,100)"
   ]
  },
  {
   "cell_type": "code",
   "execution_count": 6,
   "id": "identical-andrew",
   "metadata": {},
   "outputs": [],
   "source": [
    "# Make some fake data.\n",
    "a = b = np.arange(0, 3, .02)\n",
    "c = np.exp(a)\n",
    "d = c[::-1]"
   ]
  },
  {
   "cell_type": "code",
   "execution_count": 7,
   "id": "recreational-moscow",
   "metadata": {},
   "outputs": [
    {
     "data": {
      "text/plain": [
       "array([0.  , 0.02, 0.04, 0.06, 0.08, 0.1 , 0.12, 0.14, 0.16, 0.18, 0.2 ,\n",
       "       0.22, 0.24, 0.26, 0.28, 0.3 , 0.32, 0.34, 0.36, 0.38, 0.4 , 0.42,\n",
       "       0.44, 0.46, 0.48, 0.5 , 0.52, 0.54, 0.56, 0.58, 0.6 , 0.62, 0.64,\n",
       "       0.66, 0.68, 0.7 , 0.72, 0.74, 0.76, 0.78, 0.8 , 0.82, 0.84, 0.86,\n",
       "       0.88, 0.9 , 0.92, 0.94, 0.96, 0.98, 1.  , 1.02, 1.04, 1.06, 1.08,\n",
       "       1.1 , 1.12, 1.14, 1.16, 1.18, 1.2 , 1.22, 1.24, 1.26, 1.28, 1.3 ,\n",
       "       1.32, 1.34, 1.36, 1.38, 1.4 , 1.42, 1.44, 1.46, 1.48, 1.5 , 1.52,\n",
       "       1.54, 1.56, 1.58, 1.6 , 1.62, 1.64, 1.66, 1.68, 1.7 , 1.72, 1.74,\n",
       "       1.76, 1.78, 1.8 , 1.82, 1.84, 1.86, 1.88, 1.9 , 1.92, 1.94, 1.96,\n",
       "       1.98, 2.  , 2.02, 2.04, 2.06, 2.08, 2.1 , 2.12, 2.14, 2.16, 2.18,\n",
       "       2.2 , 2.22, 2.24, 2.26, 2.28, 2.3 , 2.32, 2.34, 2.36, 2.38, 2.4 ,\n",
       "       2.42, 2.44, 2.46, 2.48, 2.5 , 2.52, 2.54, 2.56, 2.58, 2.6 , 2.62,\n",
       "       2.64, 2.66, 2.68, 2.7 , 2.72, 2.74, 2.76, 2.78, 2.8 , 2.82, 2.84,\n",
       "       2.86, 2.88, 2.9 , 2.92, 2.94, 2.96, 2.98])"
      ]
     },
     "execution_count": 7,
     "metadata": {},
     "output_type": "execute_result"
    }
   ],
   "source": [
    "a"
   ]
  },
  {
   "cell_type": "code",
   "execution_count": 8,
   "id": "sustainable-sword",
   "metadata": {
    "scrolled": true
   },
   "outputs": [
    {
     "data": {
      "text/plain": [
       "array([ 1.        ,  1.02020134,  1.04081077,  1.06183655,  1.08328707,\n",
       "        1.10517092,  1.12749685,  1.1502738 ,  1.17351087,  1.19721736,\n",
       "        1.22140276,  1.24607673,  1.27124915,  1.29693009,  1.32312981,\n",
       "        1.34985881,  1.37712776,  1.40494759,  1.43332941,  1.46228459,\n",
       "        1.4918247 ,  1.52196156,  1.55270722,  1.58407398,  1.6160744 ,\n",
       "        1.64872127,  1.68202765,  1.71600686,  1.7506725 ,  1.78603843,\n",
       "        1.8221188 ,  1.85892804,  1.89648088,  1.93479233,  1.97387773,\n",
       "        2.01375271,  2.05443321,  2.09593551,  2.13827622,  2.18147227,\n",
       "        2.22554093,  2.27049984,  2.31636698,  2.36316069,  2.41089971,\n",
       "        2.45960311,  2.50929039,  2.55998142,  2.61169647,  2.66445624,\n",
       "        2.71828183,  2.77319476,  2.82921701,  2.88637099,  2.94467955,\n",
       "        3.00416602,  3.0648542 ,  3.12676837,  3.18993328,  3.2543742 ,\n",
       "        3.32011692,  3.38718773,  3.45561346,  3.52542149,  3.59663973,\n",
       "        3.66929667,  3.74342138,  3.81904351,  3.8961933 ,  3.97490163,\n",
       "        4.05519997,  4.13712044,  4.22069582,  4.30595953,  4.39294568,\n",
       "        4.48168907,  4.5722252 ,  4.66459027,  4.75882125,  4.85495581,\n",
       "        4.95303242,  5.05309032,  5.15516951,  5.25931084,  5.36555597,\n",
       "        5.47394739,  5.58452846,  5.69734342,  5.81243739,  5.92985642,\n",
       "        6.04964746,  6.17185845,  6.29653826,  6.42373677,  6.55350486,\n",
       "        6.68589444,  6.82095847,  6.95875097,  7.09932707,  7.24274299,\n",
       "        7.3890561 ,  7.53832493,  7.6906092 ,  7.84596981,  8.00446891,\n",
       "        8.16616991,  8.33113749,  8.49943763,  8.67113766,  8.84630626,\n",
       "        9.0250135 ,  9.20733087,  9.39333129,  9.58308917,  9.77668041,\n",
       "        9.97418245, 10.17567431, 10.38123656, 10.59095145, 10.80490286,\n",
       "       11.02317638, 11.24585931, 11.47304074, 11.70481154, 11.94126442,\n",
       "       12.18249396, 12.42859666, 12.67967097, 12.93581732, 13.19713816,\n",
       "       13.46373804, 13.73572359, 14.01320361, 14.2962891 , 14.5850933 ,\n",
       "       14.87973172, 15.18032224, 15.4869851 , 15.79984295, 16.11902095,\n",
       "       16.44464677, 16.77685067, 17.11576554, 17.46152694, 17.81427318,\n",
       "       18.17414537, 18.54128746, 18.91584631, 19.29797176, 19.68781664])"
      ]
     },
     "execution_count": 8,
     "metadata": {},
     "output_type": "execute_result"
    }
   ],
   "source": [
    "c"
   ]
  },
  {
   "cell_type": "code",
   "execution_count": 9,
   "id": "referenced-contemporary",
   "metadata": {},
   "outputs": [
    {
     "data": {
      "text/plain": [
       "array([19.68781664, 19.29797176, 18.91584631, 18.54128746, 18.17414537,\n",
       "       17.81427318, 17.46152694, 17.11576554, 16.77685067, 16.44464677,\n",
       "       16.11902095, 15.79984295, 15.4869851 , 15.18032224, 14.87973172,\n",
       "       14.5850933 , 14.2962891 , 14.01320361, 13.73572359, 13.46373804,\n",
       "       13.19713816, 12.93581732, 12.67967097, 12.42859666, 12.18249396,\n",
       "       11.94126442, 11.70481154, 11.47304074, 11.24585931, 11.02317638,\n",
       "       10.80490286, 10.59095145, 10.38123656, 10.17567431,  9.97418245,\n",
       "        9.77668041,  9.58308917,  9.39333129,  9.20733087,  9.0250135 ,\n",
       "        8.84630626,  8.67113766,  8.49943763,  8.33113749,  8.16616991,\n",
       "        8.00446891,  7.84596981,  7.6906092 ,  7.53832493,  7.3890561 ,\n",
       "        7.24274299,  7.09932707,  6.95875097,  6.82095847,  6.68589444,\n",
       "        6.55350486,  6.42373677,  6.29653826,  6.17185845,  6.04964746,\n",
       "        5.92985642,  5.81243739,  5.69734342,  5.58452846,  5.47394739,\n",
       "        5.36555597,  5.25931084,  5.15516951,  5.05309032,  4.95303242,\n",
       "        4.85495581,  4.75882125,  4.66459027,  4.5722252 ,  4.48168907,\n",
       "        4.39294568,  4.30595953,  4.22069582,  4.13712044,  4.05519997,\n",
       "        3.97490163,  3.8961933 ,  3.81904351,  3.74342138,  3.66929667,\n",
       "        3.59663973,  3.52542149,  3.45561346,  3.38718773,  3.32011692,\n",
       "        3.2543742 ,  3.18993328,  3.12676837,  3.0648542 ,  3.00416602,\n",
       "        2.94467955,  2.88637099,  2.82921701,  2.77319476,  2.71828183,\n",
       "        2.66445624,  2.61169647,  2.55998142,  2.50929039,  2.45960311,\n",
       "        2.41089971,  2.36316069,  2.31636698,  2.27049984,  2.22554093,\n",
       "        2.18147227,  2.13827622,  2.09593551,  2.05443321,  2.01375271,\n",
       "        1.97387773,  1.93479233,  1.89648088,  1.85892804,  1.8221188 ,\n",
       "        1.78603843,  1.7506725 ,  1.71600686,  1.68202765,  1.64872127,\n",
       "        1.6160744 ,  1.58407398,  1.55270722,  1.52196156,  1.4918247 ,\n",
       "        1.46228459,  1.43332941,  1.40494759,  1.37712776,  1.34985881,\n",
       "        1.32312981,  1.29693009,  1.27124915,  1.24607673,  1.22140276,\n",
       "        1.19721736,  1.17351087,  1.1502738 ,  1.12749685,  1.10517092,\n",
       "        1.08328707,  1.06183655,  1.04081077,  1.02020134,  1.        ])"
      ]
     },
     "execution_count": 9,
     "metadata": {},
     "output_type": "execute_result"
    }
   ],
   "source": [
    "d"
   ]
  },
  {
   "cell_type": "code",
   "execution_count": 27,
   "id": "accessory-winning",
   "metadata": {},
   "outputs": [
    {
     "data": {
      "image/png": "[encoded data removed]",
      "text/plain": [
       "<Figure size 432x288 with 1 Axes>"
      ]
     },
     "metadata": {
      "needs_background": "light"
     },
     "output_type": "display_data"
    }
   ],
   "source": [
    "# Create plots with pre-defined labels.\n",
    "fig, ax = plt.subplots()\n",
    "ax.plot(a, c, 'r--', label='Model length')\n",
    "ax.plot(a, d, 'g:', label='Data length')\n",
    "ax.plot(a, c + d, 'k', label='Total message length')\n",
    "\n",
    "# Add legend\n",
    "legend = ax.legend(loc='upper center', shadow=True, fontsize='x-large')\n",
    "\n",
    "# Put a nicer background color on the legend.\n",
    "#legend.get_frame().set_facecolor('C5')\n",
    "\n",
    "plt.show()\n",
    "\n"
   ]
  },
  {
   "cell_type": "code",
   "execution_count": 13,
   "id": "mighty-shipping",
   "metadata": {},
   "outputs": [
    {
     "data": {
      "text/plain": [
       "'\\n===============================\\nLegend using pre-defined labels\\n===============================\\n\\nDefining legend labels with plots.\\n'"
      ]
     },
     "execution_count": 13,
     "metadata": {},
     "output_type": "execute_result"
    }
   ],
   "source": [
    "f\"\"\"\n",
    "===============================\n",
    "Legend using pre-defined labels\n",
    "===============================\n",
    "\n",
    "Defining legend labels with plots.\n",
    "\"\"\"\n",
    "#############################################################################\n",
    "#\n",
    "# ------------\n",
    "#\n",
    "# References\n",
    "# \"\"\"\"\"\"\"\"\"\"\n",
    "#\n",
    "# The use of the following functions, methods, classes and modules is shown\n",
    "# in this example:\n",
    "\n",
    "#import matplotlib\n",
    "#matplotlib.axes.Axes.plot\n",
    "#matplotlib.pyplot.plot\n",
    "#matplotlib.axes.Axes.legend\n",
    "#matplotlib.pyplot.legend"
   ]
  },
  {
   "cell_type": "code",
   "execution_count": null,
   "id": "surface-separate",
   "metadata": {},
   "outputs": [],
   "source": []
  },
  {
   "cell_type": "code",
   "execution_count": null,
   "id": "prescription-satisfaction",
   "metadata": {},
   "outputs": [],
   "source": []
  }
 ],
 "metadata": {
  "kernelspec": {
   "display_name": "Python 3",
   "language": "python",
   "name": "python3"
  },
  "language_info": {
   "codemirror_mode": {
    "name": "ipython",
    "version": 3
   },
   "file_extension": ".py",
   "mimetype": "text/x-python",
   "name": "python",
   "nbconvert_exporter": "python",
   "pygments_lexer": "ipython3",
   "version": "3.9.1+"
  }
 },
 "nbformat": 4,
 "nbformat_minor": 5
}
